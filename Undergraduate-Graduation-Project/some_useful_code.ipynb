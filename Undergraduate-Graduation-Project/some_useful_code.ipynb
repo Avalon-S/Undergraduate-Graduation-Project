{
 "cells": [
  {
   "cell_type": "markdown",
   "id": "ef6e3038-5f5f-4055-a78f-e3c6449610d6",
   "metadata": {},
   "source": [
    "## unzip"
   ]
  },
  {
   "cell_type": "code",
   "execution_count": null,
   "id": "8f584439-47e5-42f8-bc58-6791df52cefa",
   "metadata": {},
   "outputs": [],
   "source": [
    "import zipfile\n",
    "zip_file = zipfile.ZipFile('Vaihingen_O/ISPRS_semantic_labeling_Vaihingen.zip')\n",
    "zip_extract = zip_file.extractall('Vaihingen_test')"
   ]
  },
  {
   "cell_type": "markdown",
   "id": "bb3e763c-f995-496a-9a51-6b90b4c46de2",
   "metadata": {},
   "source": [
    "## zip"
   ]
  },
  {
   "cell_type": "code",
   "execution_count": null,
   "id": "bc38105d-fd5a-4078-a082-f948f6dee7ad",
   "metadata": {},
   "outputs": [],
   "source": [
    "import os\n",
    "import zipfile\n",
    " \n",
    "def getZipDir(dirpath, outFullName):\n",
    "    \"\"\"\n",
    "    压缩指定文件夹\n",
    "    :param dirpath: 目标文件夹路径\n",
    "    :param outFullName: 压缩文件保存路径+xxxx.zip\n",
    "    :return: \n",
    "    \"\"\"\n",
    "    zip = zipfile.ZipFile(outFullName, \"w\", zipfile.ZIP_DEFLATED)\n",
    "    for path, dirnames, filenames in os.walk(dirpath):\n",
    "        # 去掉目标跟路径，只对目标文件夹下边的文件及文件夹进行压缩\n",
    "        fpath = path.replace(dirpath, '')\n",
    " \n",
    "        for filename in filenames:\n",
    "            zip.write(os.path.join(path, filename), os.path.join(fpath, filename))\n",
    "    zip.close()\n",
    " \n",
    " \n",
    "if __name__ == \"__main__\":\n",
    "    getZipDir(dirpath=\"vaihingen_2\",\n",
    "              outFullName=\"vaihingen_2.zip\")"
   ]
  },
  {
   "cell_type": "markdown",
   "id": "5d1b1bc0-8031-4d41-a2c5-f116a1bb9384",
   "metadata": {},
   "source": [
    "## count"
   ]
  },
  {
   "cell_type": "code",
   "execution_count": null,
   "id": "3221d045-f9a1-4bf6-b304-fb00037416dd",
   "metadata": {},
   "outputs": [],
   "source": [
    "import os\n",
    "\n",
    "path = 'vaihingen/train/images_512'\n",
    "files = os.listdir(path)\n",
    "num = len(files)\n",
    "\n",
    "print('文件数量：')\n",
    "print(num)\n",
    "for a in [\n",
    "            'area1_', 'area11', 'area13', 'area15', 'area17', 'area21',\n",
    "            'area23', 'area26', 'area28', 'area3_', 'area30', 'area32',\n",
    "            'area34', 'area37', 'area5_', 'area7_', 'area6_', 'area24', \n",
    "            'area35', 'area16', 'area33'\n",
    "        ]:\n",
    "    b = 0\n",
    "    for file in files:\n",
    "        if a == file[:6]:   # When dataset is Potsdam, [:6]-->[:4]\n",
    "            b += 1\n",
    "    print(a)\n",
    "    print(b)"
   ]
  },
  {
   "cell_type": "markdown",
   "id": "4d3048e3-3041-4912-a98d-5c267a6cc389",
   "metadata": {},
   "source": [
    "## remove files and output the number of files"
   ]
  },
  {
   "cell_type": "code",
   "execution_count": null,
   "id": "f8cd6d1b-f58f-4d91-9534-353af74fe8db",
   "metadata": {},
   "outputs": [],
   "source": [
    "import shutil\n",
    "import os\n",
    "\n",
    "def remove_file(old_path, new_path):\n",
    "    if not os.path.exists(new_path):\n",
    "        os.makedirs(new_path)\n",
    "    \n",
    "    filelist = os.listdir(old_path)\n",
    "    \n",
    "    cout = 0\n",
    "    \n",
    "    for file in filelist:\n",
    "        filename,extension = os.path.splitext(file)\n",
    "        if extension == '.png':\n",
    "            cout += 1\n",
    "            src = os.path.join(old_path, file)\n",
    "            dst = os.path.join(new_path, file)\n",
    "            shutil.copy(src,dst)\n",
    "    print(cout)\n"
   ]
  },
  {
   "cell_type": "code",
   "execution_count": null,
   "id": "3f849b08-79b2-4d37-af55-3feaaf137af4",
   "metadata": {},
   "outputs": [],
   "source": [
    "remove_file('vaihingen/train/images_512/','vaihingen_2/images')"
   ]
  },
  {
   "cell_type": "markdown",
   "id": "a32f4f5d-02ce-4246-9173-df85f014171f",
   "metadata": {},
   "source": [
    "## view pre trained models available in timm"
   ]
  },
  {
   "cell_type": "code",
   "execution_count": null,
   "id": "38c7a57a-aca0-497e-b873-113e23269642",
   "metadata": {},
   "outputs": [],
   "source": [
    "import timm\n",
    "from pprint import pprint\n",
    "model_names = timm.list_models(pretrained=True)\n",
    "pprint(model_names)"
   ]
  },
  {
   "cell_type": "markdown",
   "id": "600bbaa3-ad85-4354-a699-02f371fb0962",
   "metadata": {},
   "source": [
    "## replace color ((255,255,0) is unable to be seen clearly.)"
   ]
  },
  {
   "cell_type": "code",
   "execution_count": null,
   "id": "ae81dfad-7745-43eb-a548-a8c4bd4afeb8",
   "metadata": {},
   "outputs": [],
   "source": [
    "from PIL import Image\n",
    "import os\n",
    "import numpy as np\n",
    "import time\n",
    "\n",
    "def replace_color(img, src_clr, dst_clr):\n",
    "    ''' 通过矩阵操作颜色替换程序\n",
    "    @param img: 图像矩阵\n",
    "    @param src_clr: 需要替换的颜色(r,g,b)\n",
    "    @param dst_clr: 目标颜色(r,g,b)\n",
    "    @return 替换后的图像矩阵\n",
    "    '''\n",
    "    img_arr = np.asarray(img, dtype=np.double)\n",
    "\n",
    "    #分离通道\n",
    "    r_img = img_arr[:,:,0].copy()\n",
    "    g_img = img_arr[:,:,1].copy()\n",
    "    b_img = img_arr[:,:,2].copy()\n",
    "\n",
    "    #编码\n",
    "    img = r_img * 256 * 256 + g_img * 256 + b_img\n",
    "    src_color = src_clr[0] * 256 * 256 + src_clr[1] * 256 + src_clr[2]\n",
    "\n",
    "    #索引并替换颜色\n",
    "    r_img[img == src_color] = dst_clr[0]\n",
    "    g_img[img == src_color] = dst_clr[1]\n",
    "    b_img[img == src_color] = dst_clr[2]\n",
    "    \n",
    "    #合并通道\n",
    "    dst_img = np.array([r_img, g_img, b_img], dtype=np.uint8)\n",
    "    #将数据转换为图像数据(h,w,c)\n",
    "    dst_img = dst_img.transpose(1,2,0)\n",
    "    \n",
    "    return dst_img\n",
    "\n",
    "def replace_color_tran(img, src_clr, dst_clr):\n",
    "    ''' 通过遍历颜色替换程序\n",
    "    @param img: 图像矩阵\n",
    "    @param src_clr: 需要替换的颜色(r,g,b)\n",
    "    @param dst_clr: 目标颜色r,g,b)\n",
    "    @return 替换后的图像矩阵\n",
    "    '''\n",
    "    img_arr = np.asarray(img, dtype=np.double)\n",
    "\n",
    "    dst_arr = img_arr.copy()\n",
    "    for i in range(img_arr.shape[1]):\t\n",
    "        for j in range(img_arr.shape[0]):\n",
    "            if (img_arr[j][i] == src_clr)[0] == True:\n",
    "                dst_arr[j][i] = dst_clr\n",
    "\n",
    "    return np.asarray(dst_arr, dtype=np.uint8)\n",
    "\n",
    "\n",
    "img = 'vai_big_GT/top_mosaic_09cm_area33_noBoundary.tif'\n",
    "img = Image.open(img).convert('RGB')\n",
    "res_img = img.copy()\n",
    "count = 20\n",
    "matrix_time = 0\n",
    "trans_time = 0\n",
    "\n",
    "for i in range(count):\n",
    "    #print(i)\n",
    "    start = time.time()\n",
    "    dst_img = replace_color(img, (255,255,0), (255,204,0))\n",
    "    end = time.time()\n",
    "    matrix_time += (end - start)\n",
    "\n",
    "    # start = time.time()\n",
    "    # dst_img = replace_color_tran(img, (8,10,51), (255,0,0))\n",
    "    # end = time.time()\n",
    "    # trans_time += (end - start)\n",
    "\n",
    "    res_img = dst_img\n",
    "\n",
    "res_img = Image.fromarray(res_img)\n",
    "res_img.save('vai_big_GT/top_mosaic_09cm_area33_noBoundary_alter.tif')\n",
    "\n",
    "print('矩阵操作花费时间：', matrix_time / count )\n",
    "#print('遍历操作花费时间：', trans_time / count )\n"
   ]
  }
 ],
 "metadata": {
  "kernelspec": {
   "display_name": "Python 3 (ipykernel)",
   "language": "python",
   "name": "python3"
  },
  "language_info": {
   "codemirror_mode": {
    "name": "ipython",
    "version": 3
   },
   "file_extension": ".py",
   "mimetype": "text/x-python",
   "name": "python",
   "nbconvert_exporter": "python",
   "pygments_lexer": "ipython3",
   "version": "3.8.10"
  }
 },
 "nbformat": 4,
 "nbformat_minor": 5
}
